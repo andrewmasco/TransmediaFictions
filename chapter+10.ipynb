{
 "cells": [
  {
   "cell_type": "code",
   "execution_count": 5,
   "metadata": {
    "collapsed": true
   },
   "outputs": [],
   "source": [
    "from textblob import TextBlob"
   ]
  },
  {
   "cell_type": "code",
   "execution_count": null,
   "metadata": {
    "collapsed": false
   },
   "outputs": [],
   "source": []
  },
  {
   "cell_type": "code",
   "execution_count": 5,
   "metadata": {
    "collapsed": false
   },
   "outputs": [
    {
     "data": {
      "text/plain": [
       "Sentiment(polarity=0.55, subjectivity=0.725)"
      ]
     },
     "execution_count": 5,
     "metadata": {},
     "output_type": "execute_result"
    }
   ],
   "source": [
    "TextBlob('This movie was a great experience, and not disappointing.').sentiment"
   ]
  },
  {
   "cell_type": "code",
   "execution_count": 8,
   "metadata": {
    "collapsed": false
   },
   "outputs": [
    {
     "data": {
      "text/plain": [
       "Sentiment(polarity=0.0, subjectivity=0.0)"
      ]
     },
     "execution_count": 8,
     "metadata": {},
     "output_type": "execute_result"
    }
   ],
   "source": [
    "TextBlob('The princess likes rainbows.').sentiment"
   ]
  },
  {
   "cell_type": "code",
   "execution_count": 9,
   "metadata": {
    "collapsed": false
   },
   "outputs": [
    {
     "data": {
      "text/plain": [
       "Sentiment(polarity=-0.15555555555555559, subjectivity=0.2888888888888889)"
      ]
     },
     "execution_count": 9,
     "metadata": {},
     "output_type": "execute_result"
    }
   ],
   "source": [
    "TextBlob('Row, row, row your boat, gently down the stream.').sentiment"
   ]
  },
  {
   "cell_type": "code",
   "execution_count": 11,
   "metadata": {
    "collapsed": false
   },
   "outputs": [
    {
     "data": {
      "text/plain": [
       "Sentiment(polarity=0.7, subjectivity=0.6000000000000001)"
      ]
     },
     "execution_count": 11,
     "metadata": {},
     "output_type": "execute_result"
    }
   ],
   "source": [
    "TextBlob('Good, good, good, good vibrations').sentiment"
   ]
  },
  {
   "cell_type": "code",
   "execution_count": 13,
   "metadata": {
    "collapsed": false
   },
   "outputs": [
    {
     "data": {
      "text/plain": [
       "Sentiment(polarity=0.0, subjectivity=0.0)"
      ]
     },
     "execution_count": 13,
     "metadata": {},
     "output_type": "execute_result"
    }
   ],
   "source": [
    "TextBlob('Simba watches Mufasa die').sentiment"
   ]
  },
  {
   "cell_type": "code",
   "execution_count": 14,
   "metadata": {
    "collapsed": false
   },
   "outputs": [
    {
     "data": {
      "text/plain": [
       "Sentiment(polarity=0.0, subjectivity=0.0)"
      ]
     },
     "execution_count": 14,
     "metadata": {},
     "output_type": "execute_result"
    }
   ],
   "source": [
    "TextBlob('burn in hell').sentiment"
   ]
  },
  {
   "cell_type": "code",
   "execution_count": 16,
   "metadata": {
    "collapsed": false
   },
   "outputs": [
    {
     "data": {
      "text/plain": [
       "Sentiment(polarity=0.0, subjectivity=0.0)"
      ]
     },
     "execution_count": 16,
     "metadata": {},
     "output_type": "execute_result"
    }
   ],
   "source": [
    "TextBlob('Bambi got shot by a hunter.').sentiment"
   ]
  },
  {
   "cell_type": "code",
   "execution_count": 17,
   "metadata": {
    "collapsed": false
   },
   "outputs": [
    {
     "data": {
      "text/plain": [
       "Sentiment(polarity=0.8, subjectivity=1.0)"
      ]
     },
     "execution_count": 17,
     "metadata": {},
     "output_type": "execute_result"
    }
   ],
   "source": [
    "TextBlob('The princess lived happily ever after').sentiment"
   ]
  },
  {
   "cell_type": "code",
   "execution_count": 19,
   "metadata": {
    "collapsed": false
   },
   "outputs": [
    {
     "data": {
      "text/plain": [
       "Sentiment(polarity=0.8, subjectivity=1.0)"
      ]
     },
     "execution_count": 19,
     "metadata": {},
     "output_type": "execute_result"
    }
   ],
   "source": [
    "TextBlob('The princess and her unicorn lived happily ever after.').sentiment"
   ]
  },
  {
   "cell_type": "code",
   "execution_count": 28,
   "metadata": {
    "collapsed": false
   },
   "outputs": [
    {
     "data": {
      "text/plain": [
       "Sentiment(polarity=-1.0, subjectivity=1.0)"
      ]
     },
     "execution_count": 28,
     "metadata": {},
     "output_type": "execute_result"
    }
   ],
   "source": [
    "TextBlob('evil devil').sentiment"
   ]
  },
  {
   "cell_type": "code",
   "execution_count": 29,
   "metadata": {
    "collapsed": false
   },
   "outputs": [
    {
     "data": {
      "text/plain": [
       "Sentiment(polarity=-1.0, subjectivity=1.0)"
      ]
     },
     "execution_count": 29,
     "metadata": {},
     "output_type": "execute_result"
    }
   ],
   "source": [
    "TextBlob('evil').sentiment"
   ]
  },
  {
   "cell_type": "code",
   "execution_count": 6,
   "metadata": {
    "collapsed": false
   },
   "outputs": [
    {
     "name": "stdout",
     "output_type": "stream",
     "text": [
      "Man, it is hot.\n",
      "I erase many men.\n",
      "Part animal, can I live?\n",
      "Oh, sit in ample hot spots.\n"
     ]
    }
   ],
   "source": [
    "blob = TextBlob(open(\"palindromepoem.txt\").read())\n",
    "for item in blob.sentences:\n",
    "    if item.sentiment.polarity > 0:\n",
    "        print item.replace('\\n', ' ')"
   ]
  },
  {
   "cell_type": "code",
   "execution_count": 7,
   "metadata": {
    "collapsed": true
   },
   "outputs": [],
   "source": [
    "from textblob import TextBlob\n",
    "blob = TextBlob(open(\"straka_chapter.txt\").read().decode('ascii', errors=\"replace\"))"
   ]
  },
  {
   "cell_type": "code",
   "execution_count": 8,
   "metadata": {
    "collapsed": false
   },
   "outputs": [
    {
     "name": "stdout",
     "output_type": "stream",
     "text": [
      "He recognizes it at the very moment he feels the tug on his trouser leg.\n",
      "The monkey, somehow, looks to be in much more vigorous health, and from its toothless mouth comes a vocalization of a sort that S. has never heard from it, free from taunt or condescension or irritation.\n",
      "The monkey raises one hand, showing S. a jagged chunk of dark-gray rock, turning it back and forth as if it expects the light from the naked bulb ahead of them to catch one of its facets and make it gleam.\n",
      "Then, with surprising strength and dexterity, the monkey wrenches out the loosened bung and sets the black wine spilling, arcing out into the path where it splatters and puddles on the packed earth.\n",
      "And the blue-black sheen on the surface of the puddles-this, this is the precious thing that has caught the light.\n",
      "He holds out a cupped hand, to taste- Sola���s distress call, and a masculine shout.\n",
      "Which came first?\n",
      "No broken bones.\n",
      "Pain and nothing more.\n",
      "And the pain awakens him more fully to what he should have understood more fully a long time ago: more important than thwarting V��voda, more important than precious story and its circulation of truth, is Sola.\n",
      "What is most important to him is Sola.\n",
      "One note from her whistle, but one that he only recognizes as the first syllable of a longer call.\n",
      "Do whatever you must do to stay safe.\n",
      "Frivolous people, but well capitalized, and they appear to be enjoying themselves amid this unexpectedly dramatic scene.\n",
      "They have not before experienced such a direct challenge, physical threat.\n",
      "This first impression has left him ambivalent.\n",
      "The woman sips while her husband helps the Agent complete the arrangements.\n",
      "The resistance had knocked it a degree off true.\n",
      "The voices now sound conversational.\n",
      "He crouches in the shadow of a barrel in the darkest part of the passage, midway between the light at one end and the light at the other.\n",
      "These are the footsteps of a man who walks unafraid, who is certain he will have the best of any opposition he encounters.\n",
      "It opens its mouth but makes no sound, as if it knows better.\n",
      "Where is the rage, the sound of confrontation and struggle?\n",
      "He is a young man, tall and athletic, all confidence and jutting jaw.\n",
      "A fitting end?\n",
      "What fun it is, to be full of the loveliest of wines and tootling away like a canary!\n",
      "He is a delightful little man, immaculate of dress, and with that perfect white Charlie-why, the tips of the mustache fairly wink at her when he offers that sly smile!\n",
      "He is their host, and as such his discomfiture is, to be perfectly frank about the whole thing, more than a bit inconsiderate.\n",
      "He will be extraordinarily helpful to them, and she would not like to feel indebted to a rude person.\n",
      "And now-a pretty pistol in his hand!\n",
      "He hasn���t looked away from the rack since he finished helping the Agent in that most exciting business.\n",
      "The monkey runs along with him, so closely as to be nearly underfoot, but they never tangle, never even touch.\n",
      "They make errors as they follow the voice-it���s now just one voice, and S. is certain it���s V��voda���s.\n",
      "S. resents the monkey for not having a more finely-tuned animal sense of direction.\n",
      "He imagines-even as he runs, even as he strains to fix the voice���s location-the life he and Sola might find waiting when they return to the surface, the wine spilled, their work complete.\n",
      "He pictures them boarding the ship to soft-spoken expressions of admiration from the crew, paddling out through the pirate���s passage, and letting the wind send them freely skimming over the seas.\n",
      "He stills this vision in the most perfect of settings: an orange sky, just shy of dusk; a sturdy warm breeze filling the sails; their wake whitening to the water behind them, ever and always marking where they have been but need never go again.\n",
      "He knows this, somehow, knows that it is folly to pretend they are safe, that they are anything but doomed.\n",
      "These devices, one of which saved his life an age ago, will kill him, and it will kill him at the very moment at which he most wants to live.\n",
      "Such a potent but discreet little weapon!\n",
      "His rudeness aside, it���s all quite thrilling.\n",
      "The physics of sound cooperates, finally, and when the sound of the cocked hammer reaches S.���s ears, he knows precisely where the sound came from.\n",
      "His advantage will be in his speed, in his ferocity, in his absolute need to find her.\n",
      "It clatters across the floor, a surface of smooth, polished stone.\n",
      "S. hears a furious growl issue from someone���s throat, though he cannot tell if it is V��voda���s or his own.\n",
      "S. sees clearly the animal���s face, its small proud chin extending, its simple mouth wide, all the force in its body ready to spring.\n",
      "Once, twice, several times more.\n",
      "On the smooth stone are spatters and streams and the fine settled particles of a blue-black mist.\n",
      "Khatef-Zelh, still young, unchanged from when he met her in El-H___.\n",
      "The noise in his head: all the voices of all the cities, all the scream and static from the skies over the sea, all the thunder of bombs falling to earth.\n",
      "All the noise of this life of failures, a life that was never even his own to begin with.\n",
      "Across the room the transparent man raises his hands and presses them over his ears as the wound on his shoulder bleeds freely.\n",
      "So many voices, desperate, raging, pained, hopeless, and all of them are his own.\n",
      "It occurs to you for the first time that this man has never known that he is transparent.\n",
      "You are old.\n",
      "The man now has only two wants.\n"
     ]
    }
   ],
   "source": [
    "for item in blob.sentences:\n",
    "    if item.sentiment.polarity > 0:\n",
    "        print item.replace('\\n', ' ')"
   ]
  },
  {
   "cell_type": "code",
   "execution_count": 9,
   "metadata": {
    "collapsed": false
   },
   "outputs": [
    {
     "name": "stdout",
     "output_type": "stream",
     "text": [
      "There may be Agents waiting, but there will be more workers, and they will all carry axes and chisels and any other implements they can use to destroy these barrels and let the black wine- He sniffs: a rank smell cutting through the olfactory fog of blue-black and earth.\n",
      "It sounds-and here, S. wonders if the air in the cellars is fogging his mind-as if the monkey is mimicking the run of notes in S���s last whistle-call to Sola.\n",
      "When S. whispers, ���I don���t understand,��� the monkey darts ahead to the next barrel and beats the rock against its face, circling the bung.\n",
      "The sounds are loud, sharp, and echoing; everyone in the cellars will hear, has already heard.\n",
      "S. lurches toward the monkey, grabs at it, but catches only a tuft of fur which comes away in his hand.\n",
      "How long has he been wavering drunkenly?\n",
      "How long has he been still?\n",
      "He leaves behind the monkey, who darts to the next barrel.\n",
      "His first thought is of Pfeifer, of being immobilized, unable to continue, unable to save himself or anyone else, but he is able to stand.\n",
      "The monkey, no doubt tasting the fruit of its work.\n",
      "Deeper into the twisted descent there are voices, several male, and hers.\n",
      "Forward, while somewhere behind him, somewhere in the cellars where, too, this light cannot reach, the monkey destroys and, S. imagines, prances drunkenly through its destruction.\n",
      "They raise glasses to each other, celebrating their understanding.\n",
      "Silence would have concerned him, but to hear their calm is terrifying.\n",
      "The sound of an Agent approaching is merely annoying, as it requires his stillness.\n",
      "His nose fills with the rich, rank smell of unwashed fur soaked in blue-black.\n",
      "He turns his head and finds the monkey there, at eye level.\n",
      "But here in the shadows the monkey sits, and S. has little choice but to sit silently beside it and listen to those voices ahead.\n",
      "The Agent strides past them, in duster and fedora.\n",
      "Through the dark: a scatter of whistled notes, as if they were flung carelessly into a wind.\n",
      "She hopes it will not worsen and become rude.\n",
      "She ought not have expected him to.\n",
      "It���s understandable, she supposes, but it���s still a bit rude, even for him.\n",
      "They follow pathways that run to dead ends, hesitate at forks before choosing incorrectly and having to double back.\n",
      "The sun, the wind, each other-none of it can beat back the dread that rises when he realizes that these waters are heavily mined.\n",
      "It won���t be long before they hit one.\n",
      "He can see, ahead, the path splitting into a T; when he and the monkey turn the corner to the left, they will find the man holding the pistol.\n",
      "It is too late, and he is too close, to bother with stealth.\n",
      "The monkey screeches, it sounds like a war whoop.\n",
      "S. sees the pistol, waving erratically as it is brandished; he notes four wine barrels arranged haphazardly in one corner, startles at how well-lit the room is, intuits that the room is a rectangle and that he and V��voda-this white-haired and white-bearded and anxious and tiny man-are facing each other at its only point of entry or exit.\n",
      "He hurls himself at this man with a firearm, noting two other people in the room and a dumbwaiter on the far wall and knowing that if V��voda manages to get off a shot, the bullet will miss him because V��voda has no training and little nerve; he makes weapons but has never had cause to use them.\n",
      "Close, closer as the small frame struggles beneath him, a pain rippling through his trunk and into the incandescent room.\n",
      "The monkey appears beside them, shrieking, raising itself up with the rock in its hand.\n",
      "Time pitches forward as the monkey brings the rock down at them.\n",
      "S. stares, slow to understand what she means.\n",
      "She yanks the man along with her, marching him past S. and the monkey and the remains of V��voda.\n",
      "He moves himself toward the space where they had been, in front of the barrel rack, because he sees now that it is not all empty.\n",
      "Black wine is still dripping from her mouth.\n",
      "Her lips are still wet.\n",
      "The faces are too darkly inked for him to make out the features until he stands close.\n",
      "The baby from the Territory, he feverishly decides, though it���s difficult to say.\n",
      "But they are here, and it is because he failed them.\n",
      "You stretch your stiff limbs.\n",
      "You know when a thing is dead.\n",
      "Why would you even think to gaze into a dead eye?\n",
      "He shakes so hard you can see a thousand man-shaped outlines within him flutter and blur.\n",
      "He drops to one knee, to the other, to the ground.\n",
      "His clothing is blood and black wine.\n",
      "Why sit with the dead?\n",
      "How could any creature fail to understand such a fundamental thing about itself?\n",
      "You met the transparent man long ago, and that has always been what he is.\n",
      "He wants to pick up the knife and carve a strange shape into the stove-in man���s face, or maybe into the pale, white-furred skin of his belly, but he does not want that enough to do it.\n",
      "You are soaked in black wine, and you understand doom.\n",
      "You do not stay underground with the dead.\n",
      "You wonder if, all this time, there has been something essential about him you have failed to understand.\n"
     ]
    }
   ],
   "source": [
    "for item in blob.sentences:\n",
    "    if item.sentiment.polarity < 0:\n",
    "        print item.replace('\\n', ' ')"
   ]
  },
  {
   "cell_type": "code",
   "execution_count": 10,
   "metadata": {
    "collapsed": true
   },
   "outputs": [],
   "source": [
    "from textblob import TextBlob\n",
    "blob = TextBlob(open(\"SOT288.txt\").read().decode('ascii', errors=\"replace\"))"
   ]
  },
  {
   "cell_type": "code",
   "execution_count": 12,
   "metadata": {
    "collapsed": false
   },
   "outputs": [
    {
     "name": "stdout",
     "output_type": "stream",
     "text": [
      "And when, another fifty yards along a straight, downward-sloping corridor, he turn to his left and finds Sola.\n",
      "He watches her face - her open and steady face - and he knows that she can see through him.\n",
      "He finds himself repeating her words without conscious effort.\n",
      "Then another - a high scream of deranged glee.\n",
      "The monkey seems to have re-acquired the piss-and-vinegar of its youth and is scampering wildly between and under barrels, pulling out the bungs and tossing them far away.\n",
      "A pull of the trigger right now would erase both of them, immediately and irrevocably.\n",
      "[/i] Sola slips S. a lighter, a naphta lighter, the most powerful weapon that anyone in the cellar possesses.\n",
      "Perhaps he sees the cool embrace of self-destruction for a noble end in them both.\n",
      "He lowers the gun, tosses it to the ground near S.'s feet.\n",
      "This isn't a threat, he reassures himself, and besides, he'd better go see what his damned son has gotten them into now.\n"
     ]
    }
   ],
   "source": [
    "for item in blob.sentences: \n",
    "    if item.sentiment.polarity > 0:\n",
    "        print item.replace('\\n', ' ')"
   ]
  },
  {
   "cell_type": "code",
   "execution_count": 13,
   "metadata": {
    "collapsed": false
   },
   "outputs": [
    {
     "name": "stdout",
     "output_type": "stream",
     "text": [
      "The effort to keep all of that desperate action from going to waste.\n",
      "The monkey.\n",
      "They stumble onto a scene - oh, if only S. knew how to paint!\n",
      "V��voda, upon seeing Sola and S. enter the room shifts the focus of the gun from the monkey to them.\n",
      "He glances nervously at the black wine that pours onto the floor, threatening to stain his shoes.\n",
      "Her words echo again, [i]We are we and we have been we for a long, long time.\n",
      "\"Put down the gun,\" S. says.\n",
      "V��voda pushes past them and plods up the inclined passage.\n",
      "The monkey continues its work, creating a flood of dark black wine.\n"
     ]
    }
   ],
   "source": [
    "for item in blob.sentences:\n",
    "    if item.sentiment.polarity < 0:\n",
    "        print item.replace('\\n', ' ')"
   ]
  },
  {
   "cell_type": "code",
   "execution_count": 14,
   "metadata": {
    "collapsed": true
   },
   "outputs": [],
   "source": [
    "from textblob import TextBlob\n",
    "blob = TextBlob(open(\"SOT289.txt\").read().decode('ascii', errors=\"replace\"))"
   ]
  },
  {
   "cell_type": "code",
   "execution_count": 15,
   "metadata": {
    "collapsed": false
   },
   "outputs": [
    {
     "name": "stdout",
     "output_type": "stream",
     "text": [
      "destroyed, and it is worth preserving.\n",
      "[/i] And his greatest revelation comes to him.\n",
      "V��voda only needs to write using half of a barrel to make it his own.\n",
      "It would be his gift to those he drew the ink from in the first place.\n",
      "He notices light, finally light.\n",
      "His first thought is of Sola and he shoves the door open.\n",
      "There is a click as a revolver hammer locks into place and S. is suddenly aware of pressure on the back of his head.\n",
      "S. is shoved face first into the desk, the pressure on the back of his head is ever present.\n",
      "Somewhere distant there are the sounds of a scuffle and the pistol fires several more times before the room falls silent.\n",
      "A voice, he can barely hear a voice.\n",
      "He unties the lines and helps draw up oars to lead the ship to a star-filled sky, to a warm wind blowing from the southeast, to open water.\n"
     ]
    }
   ],
   "source": [
    "for item in blob.sentences:\n",
    "    if item.sentiment.polarity > 0:\n",
    "        print item.replace('\\n', ' ')"
   ]
  },
  {
   "cell_type": "code",
   "execution_count": 16,
   "metadata": {
    "collapsed": false
   },
   "outputs": [
    {
     "name": "stdout",
     "output_type": "stream",
     "text": [
      "To write with the black stuff is to create and, at the same time, to resurrect.\n",
      "The words that had echoed in his head so long ago came back to him now [i] Words are a gift to the dead, [/i] it says, [i] and a warning to the living.\n",
      "The answer sounds close, but the junctures are narrow and dark.\n",
      "He doubles his pace and darts through the near dark to a sudden drop that sends him falling.\n",
      "He lands roughly on the ground at the base of a door.\n",
      "The monkey sits on a shelf and S. watches as he rips at pages and tosses them to the ground.\n",
      "The shelves that it pulls from contain thick books detailing different times, events, people, and places.\n",
      "The monkey does not break from it's work as S. crosses the room to a desk.\n",
      "In dark thick ink the label reads Tangier.\n",
      "\"Put down the gun,\" S. says.\n",
      "He raises his hands slowly, \"there are others coming.\"\n",
      "This is a story of course, and one that has little to do with the truth other than to manipulate it.\n",
      "He hopes, for the first time, that they will be unable to find each other.\n",
      "\"Your son needs you,\" S says in an attempt to somehow talk the man down.\n",
      "His cheek lay flat against the rough wood and his neck suddenly pains him.\n",
      "There is a pause, when they are both keenly alert to one another's physical presence at this strange moment, this point in time where their stories pivot.\n",
      "The noise startles S. and he tries to grasp for something, anything that will keep him standing but he finds himself unable to move his arms.\n",
      "Finally the monkey notices him.\n",
      "S. has no vision now, black as ink, but he can feel his head being lifted from the floor.\n",
      "Is it Sola?`He had spent his entire life looking for her.\n",
      "Now they were finally together, but S. finds himself unable to say anything.\n"
     ]
    }
   ],
   "source": [
    "for item in blob.sentences:\n",
    "    if item.sentiment.polarity < 0:\n",
    "        print item.replace('\\n', ' ')"
   ]
  },
  {
   "cell_type": "code",
   "execution_count": 18,
   "metadata": {
    "collapsed": false
   },
   "outputs": [],
   "source": [
    "from textblob import TextBlob\n",
    "blob = TextBlob(open(\"SOT290.txt\").read().decode('ascii', errors=\"replace\"))"
   ]
  },
  {
   "cell_type": "code",
   "execution_count": 19,
   "metadata": {
    "collapsed": false
   },
   "outputs": [
    {
     "name": "stdout",
     "output_type": "stream",
     "text": [
      "A shot right now would erase Sola, immediately and irrevocably.\n",
      "But it could also light everything.\n",
      "Perhaps he sees what S. saw in her face ��� that cool embrace of self-destruction for a noble end.\n",
      "S. sees a man who is willing to do anything to protect his choices, his life, and the life of his son.\n",
      "He would be back with water, but S. knew the flames would be too much by then.\n",
      "The bright roaring flame that V��voda had fueled and she had lit.\n",
      "The fires are too hot, too bright.\n",
      "Does V��voda wait at the top with a gun readied?\n",
      "She tries to say more but her words are unrecognizable.\n",
      "S. squeezes her gently and takes one step at a time.\n",
      "He carries her up through the higher level of the cellar and across the lawn to the servants pavilion and down the dry well and through the engirding passage and into the grotto and back to the water.\n",
      "[i]What begins at the water shall end there, and what ends there shall once more begin.\n",
      "The smoke would make sure of that.\n",
      "But was it worth it?\n",
      "He was old.\n",
      "He waited with confidence that somewhere out there on the ship the sailors had drawn their oars and were leading the ship to a star-filled sky, to a warm wind blowing from the southeast, to open water, and they would keep sailing.\n"
     ]
    }
   ],
   "source": [
    "for item in blob.sentences:\n",
    "    if item.sentiment.polarity > 0:\n",
    "        print item.replace('\\n', ' ')"
   ]
  },
  {
   "cell_type": "code",
   "execution_count": 20,
   "metadata": {
    "collapsed": false
   },
   "outputs": [
    {
     "name": "stdout",
     "output_type": "stream",
     "text": [
      "other than to manipulate it.\n",
      "He has the face of a man who has seen trouble, has taken risks.\n",
      "One small flame.\n",
      "S. notices the monkey.\n",
      "S. pulls hard on the shelf and it begins to topple.\n",
      "The entire structure crashes down and temporarily clears a path to Sola.\n",
      "She is burned, badly burned, but she still breathes smokey air despite her wounds.\n",
      "But it is dark, and he finds himself lost in the maze.\n",
      "He stumbles and almost loses Sola.\n",
      "He could not hate them, but he could not ignore the anger either.\n",
      "He had spent too long on that ship for them to leave them stranded.\n",
      "He lay Sola down beside him.\n",
      "Entitled people crying out for help that they did not deserve.\n",
      "The monkey, which had desperately followed them from the fires pulled at his hand, but S. shrugged it off.\n",
      "He was tired.\n"
     ]
    }
   ],
   "source": [
    "for item in blob.sentences:\n",
    "    if item.sentiment.polarity < 0:\n",
    "        print item.replace('\\n', ' ')"
   ]
  },
  {
   "cell_type": "code",
   "execution_count": 21,
   "metadata": {
    "collapsed": true
   },
   "outputs": [],
   "source": [
    "from textblob import TextBlob\n",
    "blob = TextBlob(open(\"SOT291.txt\").read().decode('ascii', errors=\"replace\"))"
   ]
  },
  {
   "cell_type": "code",
   "execution_count": 22,
   "metadata": {
    "collapsed": false
   },
   "outputs": [
    {
     "name": "stdout",
     "output_type": "stream",
     "text": [
      "There is a pain,           a powerful pounding pain in his leg.\n",
      "Physically he is old.\n",
      "Too old to be running around in           the dark, and too old to live a full life with Sola.\n",
      "He grabs for many threads that pass lightly           over his hands.\n",
      "Mostly he remembers           how it felt to walk with her clutching at his hand.\n",
      "The           man knew exactly who he was, something that S. couldn't seem           to find.\n",
      "S. places his hand on Stenfalk and gently pushes him           over the edge.\n",
      "Instinctively, just like so many times before,           he reaches for V��voda's thread.\n",
      "It takes great effort to stop           himself.\n",
      "And his greatest revelation is personal: he doesn't           care about V��voda anymore.\n",
      "It           tries to wriggle free, like a worm from a bird, and S. holds           on with both hands.\n",
      "Pain shoots           through his leg as he does so and he barely manages to stifle           a scream.\n",
      "(continue original translation)\"\n"
     ]
    }
   ],
   "source": [
    "for item in blob.sentences:\n",
    "    if item.sentiment.polarity > 0:\n",
    "        print item.replace('\\n', ' ')"
   ]
  },
  {
   "cell_type": "code",
   "execution_count": 23,
   "metadata": {
    "collapsed": false
   },
   "outputs": [
    {
     "name": "stdout",
     "output_type": "stream",
     "text": [
      "He lands roughly.\n",
      "When he tries to pull           himself up to standing he is unable to do so.\n",
      "He rubs the spot and finds a dark streak across his           palm.\n",
      "S. rolls himself onto his back and looks up at the           ceiling only to see himself looking down.\n",
      "It is strange, S.           thinks, to see himself as he truly is from an objective point           of view.\n",
      "Mentally           he is scattered.\n",
      "He remembers holding her tightly in his arms.\n",
      "A dark cave, and he realizes that he is pointing           a gun at two figures that stand silhouetted by moonlight.\n",
      "The           figures embrace each other tightly as S. steps toward them.\n",
      "It           isn't until he is a few steps away that he recognizes them           both.\n",
      "S., unable           to stop himself, points the gun at her and fires several           shots.\n",
      "He had killed them.\n",
      "As long as the man lives, others           will resist what he brings to the world.\n",
      "\"I thought you were dead,\" Sola says.\n",
      "Her voice is           shaky.\n"
     ]
    }
   ],
   "source": [
    "for item in blob.sentences:\n",
    "    if item.sentiment.polarity < 0:\n",
    "        print item.replace('\\n', ' ')"
   ]
  },
  {
   "cell_type": "code",
   "execution_count": null,
   "metadata": {
    "collapsed": true
   },
   "outputs": [],
   "source": []
  }
 ],
 "metadata": {
  "kernelspec": {
   "display_name": "Python 2",
   "language": "python",
   "name": "python2"
  },
  "language_info": {
   "codemirror_mode": {
    "name": "ipython",
    "version": 2
   },
   "file_extension": ".py",
   "mimetype": "text/x-python",
   "name": "python",
   "nbconvert_exporter": "python",
   "pygments_lexer": "ipython2",
   "version": "2.7.13"
  }
 },
 "nbformat": 4,
 "nbformat_minor": 2
}
